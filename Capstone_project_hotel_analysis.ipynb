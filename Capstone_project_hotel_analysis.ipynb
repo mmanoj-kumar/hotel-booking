{
  "nbformat": 4,
  "nbformat_minor": 0,
  "metadata": {
    "colab": {
      "private_outputs": true,
      "provenance": [],
      "collapsed_sections": [
        "gIfDvo9L0UH2"
      ],
      "include_colab_link": true
    },
    "kernelspec": {
      "name": "python3",
      "display_name": "Python 3"
    },
    "language_info": {
      "name": "python"
    }
  },
  "cells": [
    {
      "cell_type": "markdown",
      "metadata": {
        "id": "view-in-github",
        "colab_type": "text"
      },
      "source": [
        "<a href=\"https://colab.research.google.com/github/mmanoj-kumar/hotel-booking/blob/main/Capstone_project_hotel_analysis.ipynb\" target=\"_parent\"><img src=\"https://colab.research.google.com/assets/colab-badge.svg\" alt=\"Open In Colab\"/></a>"
      ]
    },
    {
      "cell_type": "markdown",
      "source": [
        "# **Project Name**    - HOTEL BOOKING ANALYSIS\n",
        "\n",
        "\n",
        "\n",
        "\n",
        "\n"
      ],
      "metadata": {
        "id": "vncDsAP0Gaoa"
      }
    },
    {
      "cell_type": "markdown",
      "source": [
        "##### **Project Type**    - EDA\n",
        "##### **Contribution**    - Individual\n",
        "##### **Team Member 1 -** M.MANOJ KUMAR\n"
      ],
      "metadata": {
        "id": "beRrZCGUAJYm"
      }
    },
    {
      "cell_type": "markdown",
      "source": [
        "# **Project Summary -**"
      ],
      "metadata": {
        "id": "FJNUwmbgGyua"
      }
    },
    {
      "cell_type": "markdown",
      "source": [
        "\n",
        "Hotel booking analysis is important for every business as it predicts the key factors of no of bookings and cancellations.hotel business is a competetive business which highly relies on income based on the no of bookings but each cancellation effects the income and in turn it affects the growth of the hotel business.thus to increase the profit and make the business profitable it was necessary to analyse and predict the expectation of the customer while choosing and booking hotel,also the factors influencing the reasons for cancellations. \n",
        "\n"
      ],
      "metadata": {
        "id": "F6v_1wHtG2nS"
      }
    },
    {
      "cell_type": "markdown",
      "source": [
        "# **GitHub Link -**"
      ],
      "metadata": {
        "id": "w6K7xa23Elo4"
      }
    },
    {
      "cell_type": "markdown",
      "source": [
        "https://github.com/mmanoj-kumar/hotel-booking/blob/main/Capstone_project_hotel_analysis.ipynb"
      ],
      "metadata": {
        "id": "h1o69JH3Eqqn"
      }
    },
    {
      "cell_type": "markdown",
      "source": [
        "# **Problem Statement**\n"
      ],
      "metadata": {
        "id": "yQaldy8SH6Dl"
      }
    },
    {
      "cell_type": "markdown",
      "source": [
        "**Write Problem Statement Here.**"
      ],
      "metadata": {
        "id": "DpeJGUA3kjGy"
      }
    },
    {
      "cell_type": "markdown",
      "source": [
        "#### **Define Your Business Objective?**"
      ],
      "metadata": {
        "id": "PH-0ReGfmX4f"
      }
    },
    {
      "cell_type": "markdown",
      "source": [
        "To increase the count of hotel booking and decrease the count of booking cancellations"
      ],
      "metadata": {
        "id": "PhDvGCAqmjP1"
      }
    },
    {
      "cell_type": "markdown",
      "source": [
        "# **General Guidelines** : -  "
      ],
      "metadata": {
        "id": "mDgbUHAGgjLW"
      }
    },
    {
      "cell_type": "markdown",
      "source": [
        "1.   Well-structured, formatted, and commented code is required. \n",
        "2.   Exception Handling, Production Grade Code & Deployment Ready Code will be a plus. Those students will be awarded some additional credits. \n",
        "     \n",
        "     The additional credits will have advantages over other students during Star Student selection.\n",
        "       \n",
        "             [ Note: - Deployment Ready Code is defined as, the whole .ipynb notebook should be executable in one go\n",
        "                       without a single error logged. ]\n",
        "\n",
        "3.   Each and every logic should have proper comments.\n",
        "4. You may add as many number of charts you want. Make Sure for each and every chart the following format should be answered.\n",
        "        \n",
        "\n",
        "```\n",
        "# Chart visualization code\n",
        "```\n",
        "            \n",
        "\n",
        "*   Why did you pick the specific chart?\n",
        "*   What is/are the insight(s) found from the chart?\n",
        "* Will the gained insights help creating a positive business impact? \n",
        "Are there any insights that lead to negative growth? Justify with specific reason.\n",
        "\n",
        "5. You have to create at least 20 logical & meaningful charts having important insights.\n",
        "\n",
        "\n",
        "[ Hints : - Do the Vizualization in  a structured way while following \"UBM\" Rule. \n",
        "\n",
        "U - Univariate Analysis,\n",
        "\n",
        "B - Bivariate Analysis (Numerical - Categorical, Numerical - Numerical, Categorical - Categorical)\n",
        "\n",
        "M - Multivariate Analysis\n",
        " ]\n",
        "\n",
        "\n",
        "\n"
      ],
      "metadata": {
        "id": "ZrxVaUj-hHfC"
      }
    },
    {
      "cell_type": "markdown",
      "source": [
        "# ***Let's Begin !***"
      ],
      "metadata": {
        "id": "O_i_v8NEhb9l"
      }
    },
    {
      "cell_type": "markdown",
      "source": [
        "## ***1. Know Your Data***"
      ],
      "metadata": {
        "id": "HhfV-JJviCcP"
      }
    },
    {
      "cell_type": "markdown",
      "source": [
        "### Import Libraries"
      ],
      "metadata": {
        "id": "Y3lxredqlCYt"
      }
    },
    {
      "cell_type": "code",
      "source": [
        "# Import Libraries\n",
        "import numpy as np\n",
        "import pandas as pd\n",
        "import matplotlib.pyplot as plt\n",
        "%matplotlib inline\n",
        "from datetime import datetime\n",
        "import seaborn as sns"
      ],
      "metadata": {
        "id": "M8Vqi-pPk-HR"
      },
      "execution_count": null,
      "outputs": []
    },
    {
      "cell_type": "markdown",
      "source": [
        "### Dataset Loading"
      ],
      "metadata": {
        "id": "3RnN4peoiCZX"
      }
    },
    {
      "cell_type": "code",
      "source": [
        "# Load Dataset\n",
        "from google.colab import drive\n",
        "drive.mount('/content/drive')"
      ],
      "metadata": {
        "id": "4CkvbW_SlZ_R"
      },
      "execution_count": null,
      "outputs": []
    },
    {
      "cell_type": "code",
      "source": [
        "file_path = ('/content/drive/MyDrive/capstone project/Hotel Bookings.csv')\n",
        "hotel_df = pd.read_csv(file_path)"
      ],
      "metadata": {
        "id": "r9xDaTuOgG_4"
      },
      "execution_count": null,
      "outputs": []
    },
    {
      "cell_type": "markdown",
      "source": [
        "### Dataset First View"
      ],
      "metadata": {
        "id": "x71ZqKXriCWQ"
      }
    },
    {
      "cell_type": "code",
      "source": [
        "# Dataset First Look\n",
        "hotel_df"
      ],
      "metadata": {
        "id": "LWNFOSvLl09H"
      },
      "execution_count": null,
      "outputs": []
    },
    {
      "cell_type": "markdown",
      "source": [
        "### Dataset Rows & Columns count"
      ],
      "metadata": {
        "id": "7hBIi_osiCS2"
      }
    },
    {
      "cell_type": "code",
      "source": [
        "# Dataset Rows & Columns count\n",
        "print(hotel_df.index)\n",
        "print('\\n')\n",
        "print(hotel_df.columns)"
      ],
      "metadata": {
        "id": "Kllu7SJgmLij"
      },
      "execution_count": null,
      "outputs": []
    },
    {
      "cell_type": "markdown",
      "source": [
        "### Dataset Information"
      ],
      "metadata": {
        "id": "JlHwYmJAmNHm"
      }
    },
    {
      "cell_type": "code",
      "source": [
        "# Dataset Info\n",
        "hotel_df.info()"
      ],
      "metadata": {
        "id": "e9hRXRi6meOf"
      },
      "execution_count": null,
      "outputs": []
    },
    {
      "cell_type": "markdown",
      "source": [
        "#### Duplicate Values"
      ],
      "metadata": {
        "id": "35m5QtbWiB9F"
      }
    },
    {
      "cell_type": "code",
      "source": [
        "# Dataset Duplicate Value Count\n",
        "hotel_df.drop_duplicates(inplace = True)   # drop function is used to delete the duplicate rows from the data set\n",
        "unique_rows = hotel_df.shape[0]    # total rows = 119390 rows, duplicate rows = 31994\n",
        "unique_rows    # unique rows = 87396"
      ],
      "metadata": {
        "id": "1sLdpKYkmox0"
      },
      "execution_count": null,
      "outputs": []
    },
    {
      "cell_type": "code",
      "source": [
        "hotel_df.reset_index()  # view unique data"
      ],
      "metadata": {
        "id": "-oro-x15gtWu"
      },
      "execution_count": null,
      "outputs": []
    },
    {
      "cell_type": "markdown",
      "source": [
        "#### Missing Values/Null Values"
      ],
      "metadata": {
        "id": "PoPl-ycgm1ru"
      }
    },
    {
      "cell_type": "code",
      "source": [
        "# Missing Values/Null Values Count\n",
        "null_value = hotel_df.isnull() == True\n",
        "hotel_df.fillna(np.nan,inplace = True)\n",
        "hotel_df   #we replace all null value as nan"
      ],
      "metadata": {
        "id": "GgHWkxvamxVg"
      },
      "execution_count": null,
      "outputs": []
    },
    {
      "cell_type": "code",
      "source": [
        "# Visualizing the missing values\n",
        "miss_value = hotel_df.isnull().sum().sort_values(ascending=False)\n",
        "miss_value"
      ],
      "metadata": {
        "id": "3q5wnI3om9sJ"
      },
      "execution_count": null,
      "outputs": []
    },
    {
      "cell_type": "markdown",
      "source": [
        "### What did you know about your dataset?"
      ],
      "metadata": {
        "id": "H0kj-8xxnORC"
      }
    },
    {
      "cell_type": "markdown",
      "source": [
        "This hotel booking dataset contains single file which compares booking information between two hotels,i.e, resort hotel and city hotel.it includes various informations such as when the booking was made,type of customer,number of adults,childrens or babies, deposit,no of days of stay,no of parkings etc.,the dataset contains of total 119390 rows and 32 columns of which 31994 rows are duplicated which was removed later.In this dataset we find datatype of each columns(i.e. int,float,bool) and found some column datatype are inaccurate and remove later.we find unique value of every columns it means the actual value of each columns."
      ],
      "metadata": {
        "id": "gfoNAAC-nUe_"
      }
    },
    {
      "cell_type": "markdown",
      "source": [
        "## ***2. Understanding Your Variables***"
      ],
      "metadata": {
        "id": "nA9Y7ga8ng1Z"
      }
    },
    {
      "cell_type": "code",
      "source": [
        "# Dataset Columns\n",
        "df_column = hotel_df.columns\n",
        "df_column\n"
      ],
      "metadata": {
        "id": "j7xfkqrt5Ag5"
      },
      "execution_count": null,
      "outputs": []
    },
    {
      "cell_type": "code",
      "source": [
        "# Dataset Describe\n",
        "hotel_df.describe()"
      ],
      "metadata": {
        "id": "DnOaZdaE5Q5t"
      },
      "execution_count": null,
      "outputs": []
    },
    {
      "cell_type": "markdown",
      "source": [
        "### Variables Description "
      ],
      "metadata": {
        "id": "PBTbrJXOngz2"
      }
    },
    {
      "cell_type": "markdown",
      "source": [
        "**The columns and the Data it represents are given below:**\n",
        "\n",
        "1. hotel - name of the hotel(city hotel or resort hotel)  \n",
        "2. is_canceled\t- if the booking was cancelled(1) or not(0)  \n",
        "3. lead_time - number of days before the actual arrival of the guest\n",
        "4. arrival_date_year - year of arrival date\n",
        "5. arrival_date_month - month of arrival date\n",
        "6. arrival_date_week_number - week number for the year of arrival date\n",
        "7. arrival_date_day_of_month - day of month of arrival date\n",
        "8. stays_in_weekend_nights - number of weekend nights(saturday and sunday) spent by the customer in hotel\n",
        "9. stays_in_week_nights - number of week nights(monday to friday)spent by the customer in hotel\n",
        "10. adults - numner of adults among customer\n",
        "11. children - number of childrens among customer\n",
        "12. babies - number of babies among customer\n",
        "13. meal - type of meal booked \n",
        "14. country - country of the customer\n",
        "15. market segment - designation of market segment \n",
        "16. distribution channel - name of the booking distribution channel\n",
        "17. is_repeated_guest - if the booking was from the repeated customer(1) or not(0)\n",
        "18. previous_cancellations - number of previous bookings that were cancelled by the customer prior to the current booking\n",
        "19. previous_bookings_not_canceled - number of previous bookings not cancelled by the customer prior to the current booking \n",
        "20. reserved_room_type - code of room type reserved\n",
        "21. assigned_room_type - code of room type assigned\n",
        "22. booking_changes - number of changes/amendments made to the booking\n",
        "23. deposit_type - type of deposit madeby the customer\n",
        "24. agent - ID of the travel agent who made the booking\n",
        "25. company - ID of the company that made the booking\n",
        "26. days_in_waiting_list - number of days the booking was in the waiting list\n",
        "27. customer_type - type of customer,assuming one of four types\n",
        "28. adr - Average Daily Rate,defined by dividing the sum of all lodging transactions by the total number of staying nights\n",
        "29. required_car_parking_spaces\t- number of car parking spaces required by the customer\n",
        "30. total_of_special_requests - number of special requests made by the customer\n",
        "31. reservation_status - reservation status(cancelled,check-out,no show)\n",
        "32. reservation_status_date - date at which the last reservation status was updated\n",
        "\n",
        "     \t\n",
        "\n",
        "\n",
        "\n",
        "\t\n"
      ],
      "metadata": {
        "id": "aJV4KIxSnxay"
      }
    },
    {
      "cell_type": "markdown",
      "source": [
        "### Check Unique Values for each variable."
      ],
      "metadata": {
        "id": "u3PMJOP6ngxN"
      }
    },
    {
      "cell_type": "code",
      "source": [
        "# Check Unique Values for each variable.\n",
        "print(hotel_df.apply(lambda col: col.unique()))"
      ],
      "metadata": {
        "id": "zms12Yq5n-jE"
      },
      "execution_count": null,
      "outputs": []
    },
    {
      "cell_type": "markdown",
      "source": [
        "## 3. ***Data Wrangling***"
      ],
      "metadata": {
        "id": "dauF4eBmngu3"
      }
    },
    {
      "cell_type": "markdown",
      "source": [
        "### Data Wrangling Code"
      ],
      "metadata": {
        "id": "bKJF3rekwFvQ"
      }
    },
    {
      "cell_type": "code",
      "source": [
        "# To fill the Nan value in the column,Lets check the already stored null value column\n",
        "miss_value[:4]\n"
      ],
      "metadata": {
        "id": "wk-9a2fpoLcV"
      },
      "execution_count": null,
      "outputs": []
    },
    {
      "cell_type": "code",
      "source": [
        "#lets check the percentage of NaN value in each column starting from the company\n",
        "percent_company_null = miss_value[0] / unique_rows * 100\n",
        "percent_company_null"
      ],
      "metadata": {
        "id": "I_KJs7iVtlyA"
      },
      "execution_count": null,
      "outputs": []
    },
    {
      "cell_type": "code",
      "source": [
        "# as missing values in company is high it was better to drop the company column\n",
        "hotel_df.drop(['company'], axis=1, inplace= True)"
      ],
      "metadata": {
        "id": "HCm2NnfRu9Eg"
      },
      "execution_count": null,
      "outputs": []
    },
    {
      "cell_type": "code",
      "source": [
        "percent_agent_null = miss_value[1] / unique_rows * 100\n",
        "percent_agent_null"
      ],
      "metadata": {
        "id": "xDWO7e4gvvco"
      },
      "execution_count": null,
      "outputs": []
    },
    {
      "cell_type": "code",
      "source": [
        "# There is minimum null values in agent,so lets fill the values by taking mode of all values\n",
        "hotel_df['agent'].fillna( value= 0, inplace = True)\n",
        "hotel_df['agent'].isnull().sum() # checking whether the agent column has any null value"
      ],
      "metadata": {
        "id": "4Oiy86onwXAF"
      },
      "execution_count": null,
      "outputs": []
    },
    {
      "cell_type": "code",
      "source": [
        "# check the percentage null value in country column\n",
        "percent_country_null = miss_value[2] / unique_rows * 100\n",
        "percent_country_null"
      ],
      "metadata": {
        "id": "cmWnyCejxkhM"
      },
      "execution_count": null,
      "outputs": []
    },
    {
      "cell_type": "code",
      "source": [
        "# There is very less null value in country column,so replacing the null value as other.\n",
        "hotel_df['country'].fillna( value= 'others', inplace = True)\n",
        "hotel_df['country'].isnull().sum()  # rechecking that is there any null values in the country"
      ],
      "metadata": {
        "id": "O_6C4x3OxkkP"
      },
      "execution_count": null,
      "outputs": []
    },
    {
      "cell_type": "code",
      "source": [
        "# check the percentage null value in children column\n",
        "percent_children_null = miss_value[3] / unique_rows * 100\n",
        "percent_children_null"
      ],
      "metadata": {
        "id": "QKYRMvCyxkm1"
      },
      "execution_count": null,
      "outputs": []
    },
    {
      "cell_type": "code",
      "source": [
        "# As we have very less percentage of null value in children column,replacing null value to 0.\n",
        "hotel_df['children'].fillna( value= '0', inplace = True)\n",
        "hotel_df['children'].isnull().sum()  # rechecking that is there any null values in the children"
      ],
      "metadata": {
        "id": "bPbxF8dKxkpc"
      },
      "execution_count": null,
      "outputs": []
    },
    {
      "cell_type": "code",
      "source": [
        "#now lets check whether the database has any other null value columns\n",
        "hotel_df.isnull().sum()"
      ],
      "metadata": {
        "id": "mNNKrGNgxksI"
      },
      "execution_count": null,
      "outputs": []
    },
    {
      "cell_type": "markdown",
      "source": [
        "**change in datatype for the required columns**"
      ],
      "metadata": {
        "id": "XjSOuu970cid"
      }
    },
    {
      "cell_type": "code",
      "source": [
        "# showing info of the data to check the datatype\n",
        "hotel_df.info()\n"
      ],
      "metadata": {
        "id": "CDDxa7yBxkur"
      },
      "execution_count": null,
      "outputs": []
    },
    {
      "cell_type": "code",
      "source": [
        "# so the children and agent column in the datatype was in float datatype but it contains only int values\n",
        "hotel_df[['children','agent']] = hotel_df[['children','agent']].astype('int64') # changing the datatype of children and agent to int64"
      ],
      "metadata": {
        "id": "79B8Ui0T1OcC"
      },
      "execution_count": null,
      "outputs": []
    },
    {
      "cell_type": "markdown",
      "source": [
        "**Addition of new column as per requirement**"
      ],
      "metadata": {
        "id": "4NRjGz8e21CV"
      }
    },
    {
      "cell_type": "code",
      "source": [
        "# creating a new column of total stays in nights by adding stays in week nights and stays in weekend nights\n",
        "hotel_df['stays_in_nights'] = hotel_df['stays_in_weekend_nights'] + hotel_df['stays_in_week_nights']\n",
        "hotel_df['stays_in_nights']"
      ],
      "metadata": {
        "id": "33BJzk7G2Ne-"
      },
      "execution_count": null,
      "outputs": []
    },
    {
      "cell_type": "code",
      "source": [
        "# creating a new column revenue by multiplying total stay in nights * adr\n",
        "hotel_df['revenue']=hotel_df['stays_in_nights']*hotel_df['adr']\n",
        "hotel_df['revenue']"
      ],
      "metadata": {
        "id": "Vi_mJ7UE2Ojx"
      },
      "execution_count": null,
      "outputs": []
    },
    {
      "cell_type": "code",
      "source": [
        "# For information lets add the column for total customer coming for each bookings\n",
        "hotel_df['total_customer']=hotel_df['adults']+hotel_df['children']+hotel_df['babies']\n",
        "hotel_df['total_customer'].sum()"
      ],
      "metadata": {
        "id": "qNhpMYyy2OnW"
      },
      "execution_count": null,
      "outputs": []
    },
    {
      "cell_type": "code",
      "source": [
        "# For the sake of understaning,we can replace 0and1 to cancelled and not cancelled in the is cancelled column"
      ],
      "metadata": {
        "id": "jk1d5axW6A6C"
      },
      "execution_count": null,
      "outputs": []
    },
    {
      "cell_type": "code",
      "source": [
        "hotel_df['is_canceled']=hotel_df['is_canceled'].replace([0,1],['not_canceled','canceled'])\n",
        "hotel_df['is_canceled']"
      ],
      "metadata": {
        "id": "oVqMYwig5wv_"
      },
      "execution_count": null,
      "outputs": []
    },
    {
      "cell_type": "code",
      "source": [
        "# same for  is_repeated_guest  column\n",
        "hotel_df['is_repeated_guest']=hotel_df['is_repeated_guest'].replace([0,1],['not_repeated','repeated'])\n",
        "hotel_df['is_repeated_guest']"
      ],
      "metadata": {
        "id": "QiCh5UyV7x5B"
      },
      "execution_count": null,
      "outputs": []
    },
    {
      "cell_type": "code",
      "source": [
        "# Now lets check the overall revenue hotel wise\n",
        "hotelwise_total_revenue = hotel_df.groupby('hotel')['revenue'].sum()\n",
        "hotelwise_total_revenue"
      ],
      "metadata": {
        "id": "-aGwjBff7x7u"
      },
      "execution_count": null,
      "outputs": []
    },
    {
      "cell_type": "code",
      "source": [
        "hotel_df[['hotel','revenue']]"
      ],
      "metadata": {
        "id": "iQuxyTke9rf2"
      },
      "execution_count": null,
      "outputs": []
    },
    {
      "cell_type": "markdown",
      "source": [
        "### What all manipulations have you done and insights you found?"
      ],
      "metadata": {
        "id": "MSa1f5Uengrz"
      }
    },
    {
      "cell_type": "markdown",
      "source": [
        "**The following manipulations were done in the data**\n",
        "\n",
        "It was seen that there are some additional columns required for data analysis which can be evaluated from the given data columns \n",
        "\n",
        "**1.deletion of the column:**\n",
        "\n",
        "company -  company column contains almost null data,so deleting it does not affect the analysis\n",
        "\n",
        "**2.Addition of new column**\n",
        "\n",
        "revenue -  The new column revenue is created by multiplying the total_nights column and adr column.revenue column can be used analyse the profit earned by the hotels\n",
        "total_guest - the total guest column was created by adding the adult,children and babies column.total guest column can be used to analyse the number of customer booking the hotels\n",
        "\n",
        "**3.replacing values in the columns**\n",
        "\n",
        "is_canceled  and is_repeated_customer - These two columns contains only 0 and 1 as boolean information.so for better understanding 0 and 1 was replaced into not canceled and canceled in is_canceled column whereas in is_repeated_customer\n",
        "0 and 1 was replaced into not repeated and repeated.\n",
        "\n",
        "**4.changes in the datatype of the value in columns**\n",
        "\n",
        "agent and children - These two columns contains only integer values but in information it was displaying as float datatype.hence these two datatypes were change to the int64 datatype\n",
        "\n",
        "**5.Removed is_null_value and duplicate entries**\n",
        "\n",
        "a. It was essential to do data wrangling before visualising any data set.for that any null values in the column has to be checked.after checking,the column with more null value was dropped using .drop() function.if the null value is less in the column it has to filled appropirately using .fillna() function.\n",
        "\n",
        "b. In the same way dataset was checked for duplicate data and found to have some rows which has duplicate data.so,these rows were dropped using the drop.duplicates() method.\n",
        "\n",
        "hence we have removed the unneccesary data and the made the dataframe neat and ready for analysis and visualisation."
      ],
      "metadata": {
        "id": "LbyXE7I1olp8"
      }
    },
    {
      "cell_type": "markdown",
      "source": [
        "## ***4. Data Vizualization, Storytelling & Experimenting with charts : Understand the relationships between variables***"
      ],
      "metadata": {
        "id": "GF8Ens_Soomf"
      }
    },
    {
      "cell_type": "markdown",
      "source": [
        "#### Chart - 1"
      ],
      "metadata": {
        "id": "0wOQAZs5pc--"
      }
    },
    {
      "cell_type": "code",
      "source": [
        "# a fuction which gives a bar chart for the data of respective column\n",
        "def get_count_from_columnbar(df, column_label):\n",
        "  df_grpd=df[column_label].value_counts()\n",
        "  df_grpd = pd.DataFrame({'index':df_grpd.index,'count':df_grpd.values})\n",
        "  return df_grpd\n",
        "\n",
        "def plot_bar_chart_from_column(df, column_label, t1):\n",
        "  df_grpd = get_count_from_column(df, column_label)\n",
        "  fig, ax = plt.subplots(figsize=(14,6))\n",
        "  c = ['g','r','b','c','y']\n",
        "  ax.bar(df_grpd['index'],df_grpd['count'],width=0.4, align= 'edge', edgecolor = 'black', linewidth = 4, color = c, linestyle = ':', alpha = 0.5)\n",
        "  plt.title(t1, bbox={'facecolor':'0.8','pad':3})\n",
        "  plt.legend()\n",
        "  plt.ylabel('Count')\n",
        "  plt.xticks(rotation = 15) # used to format the label of x-axis\n",
        "  plt.xlabel(column_label)\n",
        "  plt.show()"
      ],
      "metadata": {
        "id": "GbKmitHKgCho"
      },
      "execution_count": null,
      "outputs": []
    },
    {
      "cell_type": "code",
      "source": [
        "# Chart - 1 visualization code\n",
        "def get_count_from_column(df, column_label):\n",
        "  df_grpd=df[column_label].value_counts()\n",
        "  df_grpd=pd.DataFrame({'index':df_grpd.index,'count':df_grpd.values})\n",
        "  return df_grpd\n",
        "\n",
        "# ploting a pie chart from a grouped data\n",
        "def plot_pie_chart_from_column(df, column_label, t1, exp):\n",
        "  df_grpd = get_count_from_column(df, column_label)\n",
        "  fig, ax = plt.subplots(figsize=(14,9))\n",
        "  ax.pie(df_grpd.loc[:,'count'], labels=df_grpd.loc[:,'index'],autopct='%1.2f%%',startangle=90,shadow=True,labeldistance = 1, explode= exp)\n",
        "  plt.title(t1,bbox={'facecolor':'0.8','pad':3})\n",
        "  ax.axis('equal')\n",
        "  plt.legend()\n",
        "  plt.show()\n"
      ],
      "metadata": {
        "id": "7v_ESjsspbW7"
      },
      "execution_count": null,
      "outputs": []
    },
    {
      "cell_type": "code",
      "source": [
        "exp1 = [0.05,0.05]\n",
        "plot_pie_chart_from_column(hotel_df,'hotel','Booking percentage of Hotel by Name',exp1)\n"
      ],
      "metadata": {
        "id": "WNQ-2KnBk99o"
      },
      "execution_count": null,
      "outputs": []
    },
    {
      "cell_type": "markdown",
      "source": [
        "##### 1. Why did you pick the specific chart?"
      ],
      "metadata": {
        "id": "K5QZ13OEpz2H"
      }
    },
    {
      "cell_type": "markdown",
      "source": [
        "To present the data of  highest booking done among each hotel"
      ],
      "metadata": {
        "id": "XESiWehPqBRc"
      }
    },
    {
      "cell_type": "markdown",
      "source": [
        "##### 2. What is/are the insight(s) found from the chart?"
      ],
      "metadata": {
        "id": "lQ7QKXXCp7Bj"
      }
    },
    {
      "cell_type": "markdown",
      "source": [
        "from the bar chart is pretty clear that city hotel has bookings of 61.12% whereas resort hotel has only 38.87% bookings.hence the city  hotel has the highest bookings done"
      ],
      "metadata": {
        "id": "C_j1G7yiqdRP"
      }
    },
    {
      "cell_type": "markdown",
      "source": [
        "##### 3. Will the gained insights help creating a positive business impact? \n",
        "Are there any insights that lead to negative growth? Justify with specific reason."
      ],
      "metadata": {
        "id": "448CDAPjqfQr"
      }
    },
    {
      "cell_type": "markdown",
      "source": [
        "yes,for the both hotel the data will make some positive business impact \n",
        "city hotel - provides more services to attract more guests to increase more revenue\n",
        "Resort hotel - find solution to attract more guest and find what city hotel did to attract guest"
      ],
      "metadata": {
        "id": "3cspy4FjqxJW"
      }
    },
    {
      "cell_type": "markdown",
      "source": [
        "#### Chart - 2"
      ],
      "metadata": {
        "id": "KSlN3yHqYklG"
      }
    },
    {
      "cell_type": "code",
      "source": [
        "# Chart - 2 visualization code\n",
        "exp4 = [0,0.2]\n",
        "plot_pie_chart_from_column(hotel_df, 'is_canceled', 'cancellation volume of hotel', exp4)"
      ],
      "metadata": {
        "id": "R4YgtaqtYklH"
      },
      "execution_count": null,
      "outputs": []
    },
    {
      "cell_type": "markdown",
      "source": [
        "##### 1. Why did you pick the specific chart?"
      ],
      "metadata": {
        "id": "t6dVpIINYklI"
      }
    },
    {
      "cell_type": "markdown",
      "source": [
        "This chart can be used to clearly visualize the cancellation rate of hotel bookings"
      ],
      "metadata": {
        "id": "5aaW0BYyYklI"
      }
    },
    {
      "cell_type": "markdown",
      "source": [
        "##### 2. What is/are the insight(s) found from the chart?"
      ],
      "metadata": {
        "id": "ijmpgYnKYklI"
      }
    },
    {
      "cell_type": "markdown",
      "source": [
        "From the chart it is found that more than 25%  of bookings were cancelled"
      ],
      "metadata": {
        "id": "PSx9atu2YklI"
      }
    },
    {
      "cell_type": "markdown",
      "source": [
        "##### 3. Will the gained insights help creating a positive business impact? \n",
        "Are there any insights that lead to negative growth? Justify with specific reason."
      ],
      "metadata": {
        "id": "-JiQyfWJYklI"
      }
    },
    {
      "cell_type": "markdown",
      "source": [
        "From chart it is clear that almost 28% of hotel bookings got cancelled\n",
        "solution: we have to find and sort it out the reasons for cancellation of bookings "
      ],
      "metadata": {
        "id": "BcBbebzrYklV"
      }
    },
    {
      "cell_type": "markdown",
      "source": [
        "#### Chart - 3"
      ],
      "metadata": {
        "id": "EM7whBJCYoAo"
      }
    },
    {
      "cell_type": "code",
      "source": [
        "# Chart - 3 visualization code\n",
        "plot_bar_chart_from_column(hotel_df, 'distribution_channel', 'Distribution Channel Volume')"
      ],
      "metadata": {
        "id": "t6GMdE67YoAp"
      },
      "execution_count": null,
      "outputs": []
    },
    {
      "cell_type": "markdown",
      "source": [
        "##### 1. Why did you pick the specific chart?"
      ],
      "metadata": {
        "id": "fge-S5ZAYoAp"
      }
    },
    {
      "cell_type": "markdown",
      "source": [
        "The following chart represent maximum volume of booking done through which channel to represent the numbers in decending order we chose bar graph"
      ],
      "metadata": {
        "id": "5dBItgRVYoAp"
      }
    },
    {
      "cell_type": "markdown",
      "source": [
        "##### 2. What is/are the insight(s) found from the chart?"
      ],
      "metadata": {
        "id": "85gYPyotYoAp"
      }
    },
    {
      "cell_type": "markdown",
      "source": [
        "As clearly seen TA/TO(tour of agent and tour of operator) is highest,recommending to continue booking through TA/TO"
      ],
      "metadata": {
        "id": "4jstXR6OYoAp"
      }
    },
    {
      "cell_type": "markdown",
      "source": [
        "##### 3. Will the gained insights help creating a positive business impact? \n",
        "Are there any insights that lead to negative growth? Justify with specific reason."
      ],
      "metadata": {
        "id": "RoGjAbkUYoAp"
      }
    },
    {
      "cell_type": "markdown",
      "source": [
        "Yes this shows positive business impact\n",
        "Higher the number of TA/TO will help to increase the Revenue Generation of Hotel"
      ],
      "metadata": {
        "id": "zfJ8IqMcYoAp"
      }
    },
    {
      "cell_type": "markdown",
      "source": [
        "#### Chart - 4"
      ],
      "metadata": {
        "id": "4Of9eVA-YrdM"
      }
    },
    {
      "cell_type": "code",
      "source": [
        "# Chart - 4 visualization code\n",
        "exp2 = [0.2,0,0,0,0,0,0,0,0,0,0,0.1]\n",
        "plot_pie_chart_from_column(hotel_df, 'arrival_date_month','Month_wise booking',exp2)\n"
      ],
      "metadata": {
        "id": "irlUoxc8YrdO"
      },
      "execution_count": null,
      "outputs": []
    },
    {
      "cell_type": "markdown",
      "source": [
        "##### 1. Why did you pick the specific chart?"
      ],
      "metadata": {
        "id": "iky9q4vBYrdO"
      }
    },
    {
      "cell_type": "markdown",
      "source": [
        "To show the percentage share of booking in each month,on overall level"
      ],
      "metadata": {
        "id": "aJRCwT6DYrdO"
      }
    },
    {
      "cell_type": "markdown",
      "source": [
        "##### 2. What is/are the insight(s) found from the chart?"
      ],
      "metadata": {
        "id": "F6T5p64dYrdO"
      }
    },
    {
      "cell_type": "markdown",
      "source": [
        "The above percentage shows month May, July and August are the highest booking months due to holiday season.Recomending aggressive advertisement to attract more and more customers."
      ],
      "metadata": {
        "id": "Xx8WAJvtYrdO"
      }
    },
    {
      "cell_type": "markdown",
      "source": [
        "##### 3. Will the gained insights help creating a positive business impact? \n",
        "Are there any insights that lead to negative growth? Justify with specific reason."
      ],
      "metadata": {
        "id": "y-Ehk30pYrdP"
      }
    },
    {
      "cell_type": "markdown",
      "source": [
        "yes this increased volume of visitors will help hotel to manage revenue in down time,will also help employee satisfaction and retention"
      ],
      "metadata": {
        "id": "jLNxxz7MYrdP"
      }
    },
    {
      "cell_type": "markdown",
      "source": [
        "#### Chart - 5"
      ],
      "metadata": {
        "id": "bamQiAODYuh1"
      }
    },
    {
      "cell_type": "code",
      "source": [
        "# Chart - 5 visualization code\n",
        "exp3 = [0,0.3]\n",
        "plot_pie_chart_from_column(hotel_df,'is_repeated_guest','repeating guest status',exp3)"
      ],
      "metadata": {
        "id": "TIJwrbroYuh3"
      },
      "execution_count": null,
      "outputs": []
    },
    {
      "cell_type": "markdown",
      "source": [
        "##### 1. Why did you pick the specific chart?"
      ],
      "metadata": {
        "id": "QHF8YVU7Yuh3"
      }
    },
    {
      "cell_type": "markdown",
      "source": [
        "To show the percentage share of repeated and non-repeated Guests."
      ],
      "metadata": {
        "id": "dcxuIMRPYuh3"
      }
    },
    {
      "cell_type": "markdown",
      "source": [
        "##### 2. What is/are the insight(s) found from the chart?"
      ],
      "metadata": {
        "id": "GwzvFGzlYuh3"
      }
    },
    {
      "cell_type": "markdown",
      "source": [
        "Here we can see that the number of Repeated guest is very less as compared to overall guests"
      ],
      "metadata": {
        "id": "uyqkiB8YYuh3"
      }
    },
    {
      "cell_type": "markdown",
      "source": [
        "##### 3. Will the gained insights help creating a positive business impact? \n",
        "Are there any insights that lead to negative growth? Justify with specific reason."
      ],
      "metadata": {
        "id": "qYpmQ266Yuh3"
      }
    },
    {
      "cell_type": "markdown",
      "source": [
        "we can give alluring offers to non repititive customers during off seasons to enhance revenue"
      ],
      "metadata": {
        "id": "_WtzZ_hCYuh4"
      }
    },
    {
      "cell_type": "markdown",
      "source": [
        "#### Chart - 6"
      ],
      "metadata": {
        "id": "OH-pJp9IphqM"
      }
    },
    {
      "cell_type": "code",
      "source": [
        "# Chart - 6 visualization code\n",
        "plot_bar_chart_from_column(hotel_df,'assigned_room_type','Assignment of room by type')"
      ],
      "metadata": {
        "id": "kuRf4wtuphqN"
      },
      "execution_count": null,
      "outputs": []
    },
    {
      "cell_type": "markdown",
      "source": [
        "##### 1. Why did you pick the specific chart?"
      ],
      "metadata": {
        "id": "bbFf2-_FphqN"
      }
    },
    {
      "cell_type": "markdown",
      "source": [
        "To show distribution by volume,which room is allotted"
      ],
      "metadata": {
        "id": "loh7H2nzphqN"
      }
    },
    {
      "cell_type": "markdown",
      "source": [
        "##### 2. What is/are the insight(s) found from the chart?"
      ],
      "metadata": {
        "id": "_ouA3fa0phqN"
      }
    },
    {
      "cell_type": "markdown",
      "source": [
        "This Chart shows room type 'A' is most preferred by guests"
      ],
      "metadata": {
        "id": "VECbqPI7phqN"
      }
    },
    {
      "cell_type": "markdown",
      "source": [
        "##### 3. Will the gained insights help creating a positive business impact? \n",
        "Are there any insights that lead to negative growth? Justify with specific reason."
      ],
      "metadata": {
        "id": "Seke61FWphqN"
      }
    },
    {
      "cell_type": "markdown",
      "source": [
        "Yes,Positive impact because 'A','D','E' is more preffered by guest due to better swervices offered in room type."
      ],
      "metadata": {
        "id": "DW4_bGpfphqN"
      }
    },
    {
      "cell_type": "markdown",
      "source": [
        "#### Chart - 7"
      ],
      "metadata": {
        "id": "PIIx-8_IphqN"
      }
    },
    {
      "cell_type": "code",
      "source": [
        "# Chart - 7 visualization code\n",
        "guest_month_wise = pd.DataFrame(hotel_df[['arrival_date_month','total_customer']])\n",
        "guest_month_wise_df = guest_month_wise.groupby(['arrival_date_month'])['total_customer'].sum()\n",
        "guest_month_wise_df.sort_values(ascending= False,inplace = True)\n"
      ],
      "metadata": {
        "id": "lqAIGUfyphqO"
      },
      "execution_count": null,
      "outputs": []
    },
    {
      "cell_type": "code",
      "source": [
        "hotel_df['total_customer']"
      ],
      "metadata": {
        "id": "JuhkQxey3PjG"
      },
      "execution_count": null,
      "outputs": []
    },
    {
      "cell_type": "code",
      "source": [
        "market_segment_df = pd.DataFrame(hotel_df['market_segment'])\n",
        "market_segment_df_data = market_segment_df.groupby('market_segment')['market_segment'].count()\n",
        "market_segment_df_data.sort_values(ascending = False, inplace= True)\n",
        "plt.figure(figsize=(15,6))\n",
        "y = np.array([4,5,6])\n",
        "market_segment_df_data.plot(kind = 'bar', color = ['g','r','c','b','y','black','brown'], fontsize = 20, legend = 'True')"
      ],
      "metadata": {
        "id": "OLuiq3m23sWm"
      },
      "execution_count": null,
      "outputs": []
    },
    {
      "cell_type": "markdown",
      "source": [
        "##### 1. Why did you pick the specific chart?"
      ],
      "metadata": {
        "id": "t27r6nlMphqO"
      }
    },
    {
      "cell_type": "markdown",
      "source": [
        "In this chart we have seen market segment by which hotel has booked"
      ],
      "metadata": {
        "id": "iv6ro40sphqO"
      }
    },
    {
      "cell_type": "markdown",
      "source": [
        "##### 2. What is/are the insight(s) found from the chart?"
      ],
      "metadata": {
        "id": "r2jJGEOYphqO"
      }
    },
    {
      "cell_type": "markdown",
      "source": [
        "Online TA has been used most frequently to book hotel by the guest"
      ],
      "metadata": {
        "id": "Po6ZPi4hphqO"
      }
    },
    {
      "cell_type": "markdown",
      "source": [
        "##### 3. Will the gained insights help creating a positive business impact? \n",
        "Are there any insights that lead to negative growth? Justify with specific reason."
      ],
      "metadata": {
        "id": "b0JNsNcRphqO"
      }
    },
    {
      "cell_type": "markdown",
      "source": [
        "Yes, It is creating positive business impact that guests are using online TA market segment as most preffered to book hotels"
      ],
      "metadata": {
        "id": "xvSq8iUTphqO"
      }
    },
    {
      "cell_type": "markdown",
      "source": [
        "#### Chart - 8"
      ],
      "metadata": {
        "id": "BZR9WyysphqO"
      }
    },
    {
      "cell_type": "code",
      "source": [
        "# Chart - 8 visualization code\n",
        "guest_country_wise = pd.DataFrame(hotel_df[['country','total_customer']])\n",
        "guest_country_wise_df = guest_country_wise.groupby(['country'])['total_customer'].sum()\n",
        "guest_country_wise_df.sort_values(ascending = False, inplace = True)\n",
        "top_10_country_by_guest = guest_country_wise_df.head(10)"
      ],
      "metadata": {
        "id": "TdPTWpAVphqO"
      },
      "execution_count": null,
      "outputs": []
    },
    {
      "cell_type": "code",
      "source": [
        "plt.figure(figsize=(12,6))\n",
        "sns.barplot(top_10_country_by_guest.index,top_10_country_by_guest).set(title='top_10_country_by_guest')\n",
        "print(\"\\n\\nPRT = potugal\\nGBR = Great Britain & Northern Ireland\\nFRA = France\\nESP = Spain\\nDEU = Germany\\nITA= Italy\\nIRL = Ireland\\nBRA = Brazil\\nBEL = Belgium\\nNLD = Netherland\")"
      ],
      "metadata": {
        "id": "s5cT51Xy7_4k"
      },
      "execution_count": null,
      "outputs": []
    },
    {
      "cell_type": "markdown",
      "source": [
        "##### 1. Why did you pick the specific chart?"
      ],
      "metadata": {
        "id": "jj7wYXLtphqO"
      }
    },
    {
      "cell_type": "markdown",
      "source": [
        "This chart shows the top 10 country from which the maximum guests were coming"
      ],
      "metadata": {
        "id": "Ob8u6rCTphqO"
      }
    },
    {
      "cell_type": "markdown",
      "source": [
        "##### 2. What is/are the insight(s) found from the chart?"
      ],
      "metadata": {
        "id": "eZrbJ2SmphqO"
      }
    },
    {
      "cell_type": "markdown",
      "source": [
        "From the chart it is clear that maximum customers to hotels are from the portugal country"
      ],
      "metadata": {
        "id": "mZtgC_hjphqO"
      }
    },
    {
      "cell_type": "markdown",
      "source": [
        "##### 3. Will the gained insights help creating a positive business impact? \n",
        "Are there any insights that lead to negative growth? Justify with specific reason."
      ],
      "metadata": {
        "id": "rFu4xreNphqO"
      }
    },
    {
      "cell_type": "markdown",
      "source": [
        "By doing more advertisements and attractive offers particularly for the customers from portugal will obviously increase the customer volume."
      ],
      "metadata": {
        "id": "ey_0qi68phqO"
      }
    },
    {
      "cell_type": "markdown",
      "source": [
        "#### Chart - 9"
      ],
      "metadata": {
        "id": "YJ55k-q6phqO"
      }
    },
    {
      "cell_type": "code",
      "source": [
        "# Chart - 9 visualization code\n",
        "order = ['January','February','March','April','May','June','July','August','September','October','November','December']\n",
        "ordered_df = hotel_df[hotel_df['is_canceled'] == 'not canceled']['arrival_date_month'].value_counts().reindex(order)\n",
        "plt.subplots(figsize=(10,6))\n",
        "ticks = np.arange(0, 20, 150)\n",
        "labels = [\"{}\".format(i//1) for i in ticks]\n",
        "plt.yticks(ticks,labels)\n",
        "\n",
        "plt.xticks(rotation = 60)\n",
        "\n",
        "for xy in zip(ordered_df.index,ordered_df.values):\n",
        "  plt.annotate(s = \"{}\".format(xy[1]//1), xy = xy,  textcoords= 'data')\n",
        "\n",
        "plt.plot(ordered_df.index,ordered_df.values,linewidth = 4,color = 'r',linestyle='dotted',marker = '+',markersize=20,alpha=1)\n",
        "\n",
        "plt.xlabel(\"Months\",fontdict={'fontsize': 12,'fontweight':5,'color':'Brown'})\n",
        "plt.ylabel(\"counts\",fontdict={'fontsize': 12,'fontweight':5,'color':'Brown'})\n",
        "plt.title(\"month wise booking\",fontdict={'fontsize': 20,'fontweight':5,'color':'Green'})\n"
      ],
      "metadata": {
        "id": "B2aS4O1ophqO"
      },
      "execution_count": null,
      "outputs": []
    },
    {
      "cell_type": "code",
      "source": [],
      "metadata": {
        "id": "4g6cMfO87t8y"
      },
      "execution_count": null,
      "outputs": []
    },
    {
      "cell_type": "code",
      "source": [
        "plt.figure(figsize = (8,5))\n",
        "hotel_wise_revenue = hotel_df.groupby('hotel')['revenue'].sum()\n",
        "hotel_wise_revenue\n",
        "ax = hotel_wise_revenue.plot(kind='bar', color = ('b','y'))\n",
        "plt.xlabel(\"Hotel\", fontdict={'fontsize' : 12, 'fontweight' : 5, 'color' : 'Brown'})\n",
        "plt.ylabel(\"Total Revenue\", fontdict={'fontsize' : 12, 'fontweight' : 5, 'color' : 'Brown'})\n",
        "plt.title(\"Total Revenue\", fontdict={'fontsize' : 12, 'fontweight' : 5, 'color' : 'Green'})"
      ],
      "metadata": {
        "id": "qhZvJXu-W73M"
      },
      "execution_count": null,
      "outputs": []
    },
    {
      "cell_type": "code",
      "source": [
        "average_adr = hotel_df.groupby('hotel')['adr'].mean()\n",
        "average_adr\n",
        "plt.subplots(figsize=(8, 5))\n",
        "average_adr.plot(kind = 'barh', color = ('g','r'))\n",
        "plt.xlabel(\"Average ADR\", fontdict={'fontsize' : 12,'fontweight' : 5,'color' : 'Brown'})\n",
        "plt.ylabel(\"Hotel Name\", fontdict={'fontsize' : 12,'fontweight' : 5,'color' : 'Brown'})\n",
        "plt.title(\"Average ADR of Hotel\", fontdict={'fontsize' : 12,'fontweight' : 5,'color' : 'Green'})"
      ],
      "metadata": {
        "id": "liVpRzj9ahdd"
      },
      "execution_count": null,
      "outputs": []
    },
    {
      "cell_type": "markdown",
      "source": [
        "##### 1. Why did you pick the specific chart?"
      ],
      "metadata": {
        "id": "gCFgpxoyphqP"
      }
    },
    {
      "cell_type": "markdown",
      "source": [
        "To specify the average ADR  for both hotels"
      ],
      "metadata": {
        "id": "TVxDimi2phqP"
      }
    },
    {
      "cell_type": "markdown",
      "source": [
        "##### 2. What is/are the insight(s) found from the chart?"
      ],
      "metadata": {
        "id": "OVtJsKN_phqQ"
      }
    },
    {
      "cell_type": "markdown",
      "source": [
        "From the it was clear that the average ADR for city hotel is higher than the resort hotel,hence respectively the revenue and profit of city hotel will be higher compared to the resort hotel"
      ],
      "metadata": {
        "id": "ngGi97qjphqQ"
      }
    },
    {
      "cell_type": "markdown",
      "source": [
        "##### 3. Will the gained insights help creating a positive business impact? \n",
        "Are there any insights that lead to negative growth? Justify with specific reason."
      ],
      "metadata": {
        "id": "lssrdh5qphqQ"
      }
    },
    {
      "cell_type": "markdown",
      "source": [
        "By having regular connections with guests,providing offers and making some higher level advertisement for city hotel,it will increase the profit."
      ],
      "metadata": {
        "id": "tBpY5ekJphqQ"
      }
    },
    {
      "cell_type": "markdown",
      "source": [
        "#### Chart - 10"
      ],
      "metadata": {
        "id": "U2RJ9gkRphqQ"
      }
    },
    {
      "cell_type": "code",
      "source": [
        "# Chart - 10 visualization code\n",
        "plt.figure(figsize = (12,6))\n",
        "sns.scatterplot(y= 'stays_in_nights',x = 'adr', data = hotel_df[hotel_df['adr'] < 1000])\n",
        "plt.show()"
      ],
      "metadata": {
        "id": "GM7a4YP4phqQ"
      },
      "execution_count": null,
      "outputs": []
    },
    {
      "cell_type": "markdown",
      "source": [
        "##### 1. Why did you pick the specific chart?"
      ],
      "metadata": {
        "id": "1M8mcRywphqQ"
      }
    },
    {
      "cell_type": "markdown",
      "source": [
        "To show the comparision and effect between total stay days and ADR"
      ],
      "metadata": {
        "id": "8agQvks0phqQ"
      }
    },
    {
      "cell_type": "markdown",
      "source": [
        "##### 2. What is/are the insight(s) found from the chart?"
      ],
      "metadata": {
        "id": "tgIPom80phqQ"
      }
    },
    {
      "cell_type": "markdown",
      "source": [
        "From the chart it was seen that total stay days is inversly propotional to the ADR"
      ],
      "metadata": {
        "id": "Qp13pnNzphqQ"
      }
    },
    {
      "cell_type": "markdown",
      "source": [
        "#### Chart - 11"
      ],
      "metadata": {
        "id": "x-EpHcCOp1ci"
      }
    },
    {
      "cell_type": "code",
      "source": [
        "# Chart - 11 visualization code\n",
        "plt.figure(figsize = (12,10), dpi = 100)\n",
        "hotel_wise_meal = hotel_df.groupby(['hotel', 'meal'])['meal'].count().unstack()\n",
        "hotel_wise_meal.plot(kind = 'bar', figsize = (12,8))\n",
        "hotel_wise_meal"
      ],
      "metadata": {
        "id": "mAQTIvtqp1cj"
      },
      "execution_count": null,
      "outputs": []
    },
    {
      "cell_type": "markdown",
      "source": [
        "##### 1. Why did you pick the specific chart?"
      ],
      "metadata": {
        "id": "X_VqEhTip1ck"
      }
    },
    {
      "cell_type": "markdown",
      "source": [
        "This chart was choosen to show the meal preference of customer by hotelwise"
      ],
      "metadata": {
        "id": "-vsMzt_np1ck"
      }
    },
    {
      "cell_type": "markdown",
      "source": [
        "##### 2. What is/are the insight(s) found from the chart?"
      ],
      "metadata": {
        "id": "8zGJKyg5p1ck"
      }
    },
    {
      "cell_type": "markdown",
      "source": [
        "From the chart is it was seen that BB(bread and butter) meal was mostly preffred by the guests in both hotel.Hence by providing some varities,and offering more delicious BB type meal at the same time maintaining the high quality and hygienic meal will obviously attract more and more guests."
      ],
      "metadata": {
        "id": "ZYdMsrqVp1ck"
      }
    },
    {
      "cell_type": "markdown",
      "source": [
        " Chart - 12 - Correlation Heatmap"
      ],
      "metadata": {
        "id": "NC_X3p0fY2L0"
      }
    },
    {
      "cell_type": "code",
      "source": [
        "# Correlation Heatmap visualization code\n",
        "corr_df = hotel_df[['lead_time','previous_cancellations','previous_bookings_not_canceled','total_customer','booking_changes','days_in_waiting_list','adr','required_car_parking_spaces','total_of_special_requests']].corr()\n",
        "f, ax = plt.subplots(figsize=(12, 12))\n",
        "sns.heatmap(corr_df, annot = True, fmt='.2f', annot_kws={'size' : 10}, vmax=1, square = True, cmap=\"YlGnBu\")"
      ],
      "metadata": {
        "id": "xyC9zolEZNRQ"
      },
      "execution_count": null,
      "outputs": []
    },
    {
      "cell_type": "markdown",
      "source": [
        "##### 1. Why did you pick the specific chart?"
      ],
      "metadata": {
        "id": "UV0SzAkaZNRQ"
      }
    },
    {
      "cell_type": "markdown",
      "source": [
        "To understand the relation between different numerical values"
      ],
      "metadata": {
        "id": "DVPuT8LYZNRQ"
      }
    },
    {
      "cell_type": "markdown",
      "source": [
        "##### 2. What is/are the insight(s) found from the chart?"
      ],
      "metadata": {
        "id": "YPEH6qLeZNRQ"
      }
    },
    {
      "cell_type": "markdown",
      "source": [
        "Highest corelation value between axis is 39% positive and lowest corellation value betweeen the axis is -9% negative"
      ],
      "metadata": {
        "id": "bfSqtnDqZNRR"
      }
    },
    {
      "cell_type": "markdown",
      "source": [
        "## **5. Solution to Business Objective**"
      ],
      "metadata": {
        "id": "JcMwzZxoAimU"
      }
    },
    {
      "cell_type": "markdown",
      "source": [
        "#### What do you suggest the client to achieve Business Objective ? \n",
        "Explain Briefly."
      ],
      "metadata": {
        "id": "8G2x9gOozGDZ"
      }
    },
    {
      "cell_type": "markdown",
      "source": [
        "1.For hotel business to flourish few things need to be considered is High revenue Generation,customer satisfaction and customer Retention.\n",
        "\n",
        "2.We are able to achieve the same by showing the client which are the months which are high in revenue generation by pie chart distribution.\n",
        "\n",
        "3.Icreasing the revenue achieved by bar chart distributon of which type room are most reserved and what are the months likely for visitors.\n",
        "\n",
        "4.So for these the client can be well prepare in advance so that minimum grievances would be faced by clients in long run and would help in further enhancement of their hospitality.\n",
        "\n",
        "5.outliers like higher the visitor then adr has reduced drastically was shown in scattered plot so in off season client can engage with offices for bulk booking this will also help extra revenue generation.\n",
        "\n",
        "6.we are able to show the trend of arrivals of visitors at client locations through which client angaged visitors well advance for there entertainment and leisure activities.\n",
        "\n",
        "7.we were also able to corelate the values showing the max amd min percentage between them so that the percentage lying those numbers can be enhanced by various medium."
      ],
      "metadata": {
        "id": "pASKb0qOza21"
      }
    },
    {
      "cell_type": "markdown",
      "source": [
        "# **Conclusion**"
      ],
      "metadata": {
        "id": "gCX9965dhzqZ"
      }
    },
    {
      "cell_type": "markdown",
      "source": [
        "1.City Hotel seems to be more preffered among travellers and it also generates more revenue & profit.\n",
        "\n",
        "2.Most number of bookings are made in July and August as compared rest of the months.\n",
        "\n",
        "3.Room type A is the most preffered room type among travellers.\n",
        "\n",
        "4.Most number of bookings are made from portugal & Great Britain.\n",
        "\n",
        "5.Most of the guest stays for 1-4 days in the hotels.\n",
        "\n",
        "6.City Hotel retains more number of guests.\n",
        "\n",
        "7.Around 1/4 th of the total bookings gets cancelled. More cancellations are form city Hotel.\n",
        "\n",
        "8.New guest tends to cancel bookings more than repeated customers.\n",
        "\n",
        "9.Lead time,number of days in waiting list or assigning of reserved room to customer does not affect cancellation of bookings.\n",
        "\n",
        "10.Corporate has the most percentage of repeated guests while TA/TO has the least whereas in the case of cancelled bookings TA/TO has the most percentage while corporate has the least.\n",
        "\n",
        "11.The length of the stay decreases as ADR increases probably to reduce the cost."
      ],
      "metadata": {
        "id": "Fjb1IsQkh3yE"
      }
    },
    {
      "cell_type": "markdown",
      "source": [
        "### ***Hurrah! You have successfully completed your EDA Capstone Project !!!***"
      ],
      "metadata": {
        "id": "gIfDvo9L0UH2"
      }
    }
  ]
}